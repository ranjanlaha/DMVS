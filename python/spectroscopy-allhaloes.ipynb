{
 "cells": [
  {
   "cell_type": "code",
   "execution_count": 40,
   "metadata": {
    "collapsed": false
   },
   "outputs": [],
   "source": [
    "import matplotlib\n",
    "%matplotlib inline\n",
    "matplotlib.rcParams['font.size'] = 28.0\n",
    "import matplotlib.pyplot as plt\n",
    "import numpy as np\n",
    "from scipy.stats import chi2\n",
    "import loadMWSnap as mws\n",
    "import velocitySpectroscopyHelpers as vsh\n",
    "reload(mws);\n",
    "reload(vsh);\n",
    "\n",
    "### Micro-X parameters ###\n",
    "fwhm_MX = 3.0/(3.5*10**3) # fractional energy resolution at 3.5 keV\n",
    "theta_MX = 20.0\n",
    "mx_params = {\n",
    "    'aperture': 1.0, # effective aperture in cm^2\n",
    "    'exposure': 300.0, # exposure time in sec\n",
    "    'fov': 2*np.pi*(1.-np.cos(theta_MX*np.pi/180.)), # solid angle of the FOV in str\n",
    "    'sigma_energy': fwhm_MX/(2.*(2.*np.log(2.))**0.5), # Guassian sigma of the energy response\n",
    "    'theta_sample': theta_MX, # angular radius of the sampling cone in degrees\n",
    "}\n",
    "# print mx_params\n",
    "mx_lon = np.array([-105., -85., -65., -45., -25., 0., 25., 45., 65., 85., 105.])\n",
    "fill_lon = np.linspace(-120.0, 120.0, 50)"
   ]
  },
  {
   "cell_type": "code",
   "execution_count": 57,
   "metadata": {
    "collapsed": false
   },
   "outputs": [],
   "source": [
    "# process all haloes using analytic vs n-body\n",
    "ndata = np.array([len(mx_lon)], dtype=np.int32)\n",
    "nfill = np.array([len(fill_lon)], dtype=np.int32)\n",
    "haloes = mws.allHaloes[30:]\n",
    "for i, h in enumerate(haloes):\n",
    "    \n",
    "    print 'Halo %d of %d (%d):' % (i+1, len(haloes), h)\n",
    "\n",
    "    # load haloes\n",
    "    pos, vel, partmass, ldim, data = mws.loadMWSnap(halo=h, verbose=False)\n",
    "    pos -= vsh.pos_sun\n",
    "    vel -= vsh.vel_sun\n",
    "\n",
    "    print 'N-body sampling',\n",
    "    mx_nbody = vsh.spectroscopy(pos, vel, partmass, lon=mx_lon, **mx_params)\n",
    "\n",
    "    print 'Analytic sampling',\n",
    "    c = data['rvir']/data['rs']\n",
    "    rho0=data['mvir']/(4*np.pi*data['rs']**3*(np.log(1+c)-c/(1+c))) # solve for rho0 for NFW\n",
    "    mx_analy = vsh.spectroscopy_analytic(rho0=rho0, Rs=data['rs'], Rvir=data['rvir'],\\\n",
    "                                         lon=mx_lon, **mx_params)\n",
    "    \n",
    "    mx_fill = vsh.spectroscopy_analytic(rho0=rho0, Rs=data['rs'], Rvir=data['rvir'],\\\n",
    "                                         lon=fill_lon, **mx_params)\n",
    "    \n",
    "    with open('../data/halo%d.nbody'%h, 'wb') as f:\n",
    "        ndata.tofile(f)\n",
    "        mx_nbody['l'].tofile(f)\n",
    "        mx_nbody['cen'].tofile(f)\n",
    "        mx_nbody['sig'].tofile(f)\n",
    "        mx_nbody['Ns'].tofile(f)\n",
    "        mx_nbody['Nb'].tofile(f)\n",
    "        f.close()\n",
    "        \n",
    "    with open('../data/halo%d.analytic'%h, 'wb') as f:\n",
    "        ndata.tofile(f)\n",
    "        mx_analy['l'].tofile(f)\n",
    "        mx_analy['cen'].tofile(f)\n",
    "        mx_analy['sig'].tofile(f)\n",
    "        mx_analy['Ns'].tofile(f)\n",
    "        mx_analy['Nb'].tofile(f)\n",
    "        f.close()\n",
    "        \n",
    "    with open('../data/halo%d.fill'%h, 'wb') as f:\n",
    "        nfill.tofile(f)\n",
    "        mx_fill['l'].tofile(f)\n",
    "        mx_fill['cen'].tofile(f)\n",
    "        mx_fill['sig'].tofile(f)\n",
    "        mx_fill['Ns'].tofile(f)\n",
    "        mx_fill['Nb'].tofile(f)\n",
    "        f.close()\n",
    "\n"
   ]
  },
  {
   "cell_type": "code",
   "execution_count": null,
   "metadata": {
    "collapsed": true
   },
   "outputs": [],
   "source": []
  }
 ],
 "metadata": {
  "kernelspec": {
   "display_name": "Python 2",
   "language": "python",
   "name": "python2"
  },
  "language_info": {
   "codemirror_mode": {
    "name": "ipython",
    "version": 2
   },
   "file_extension": ".py",
   "mimetype": "text/x-python",
   "name": "python",
   "nbconvert_exporter": "python",
   "pygments_lexer": "ipython2",
   "version": "2.7.11"
  }
 },
 "nbformat": 4,
 "nbformat_minor": 0
}
