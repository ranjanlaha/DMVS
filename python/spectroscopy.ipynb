{
 "cells": [
  {
   "cell_type": "code",
   "execution_count": 1,
   "metadata": {
    "collapsed": false
   },
   "outputs": [],
   "source": [
    "import matplotlib\n",
    "%matplotlib inline\n",
    "matplotlib.rcParams['font.size'] = 28.0\n",
    "import matplotlib.pyplot as plt\n",
    "import numpy as np\n",
    "import loadMWSnap as mws\n",
    "import velocitySpectroscopyHelpers as vsh\n",
    "reload(mws);\n",
    "reload(vsh);"
   ]
  },
  {
   "cell_type": "code",
   "execution_count": 2,
   "metadata": {
    "collapsed": false
   },
   "outputs": [
    {
     "name": "stdout",
     "output_type": "stream",
     "text": [
      "Reading rockstar output /nfs/slac/g/ki/ki21/cosmo/yymao/mw_resims/halos/Halo374/rockstar/hlists/hlist_1.00000.list\n",
      "Reading MUSIC log /nfs/slac/g/ki/ki21/cosmo/yymao/mw_resims/halos/Halo374/music.conf_log.txt\n",
      "Lagrangian patch dimensions are (486, 224, 242)\n",
      "Reading Gadget snapshot /nfs/slac/g/ki/ki21/cosmo/yymao/mw_resims/halos/Halo374/output/snapshot_235\n"
     ]
    }
   ],
   "source": [
    "reload(mws);\n",
    "# Load the particle data\n",
    "# pos in physical kpc, vel in km/s, mass in physical m_sun\n",
    "rawpos, rawvel, partmass, ldim, data = mws.loadMWSnap(halo=374)"
   ]
  },
  {
   "cell_type": "code",
   "execution_count": 3,
   "metadata": {
    "collapsed": false
   },
   "outputs": [],
   "source": [
    "reload(vsh);\n",
    "### Rotate the halo around the center aribitrarily ###\n",
    "# np.random.seed(10291989)\n",
    "# rot = vsh.generateRotationMatrix()\n",
    "\n",
    "### Rotate the halo so that its principal axes align with the coordinates ###\n",
    "rfilt = np.sum(rawpos**2, axis=1) < vsh.r_sun**2 # use only particles inside the Sun's orbit for this\n",
    "cov = np.cov(rawpos[rfilt].T)\n",
    "vals, vecs = np.linalg.eig(cov)\n",
    "rot = vecs\n",
    "\n",
    "# Add an additional rotation component\n",
    "angle = 0.0\n",
    "# angle = 0.25*np.pi\n",
    "ax = 1\n",
    "sa = np.sin(angle)\n",
    "ca = np.cos(angle)\n",
    "rmat = np.roll(np.roll(np.array([[ca, -sa, 0], [sa, ca, 0], [0, 0, 1]]), ax, axis=0), ax, axis=1)\n",
    "rot = np.dot(rot, rmat)\n",
    "\n",
    "# shift everything relative to the sun's location and velocity\n",
    "pos = np.dot(rawpos, rot) - vsh.pos_sun\n",
    "vel = np.dot(rawvel, rot) - vsh.vel_sun\n",
    "# pos = rawpos - vsh.pos_sun\n",
    "# vel = rawvel - vsh.vel_sun"
   ]
  },
  {
   "cell_type": "code",
   "execution_count": 4,
   "metadata": {
    "collapsed": false
   },
   "outputs": [
    {
     "name": "stdout",
     "output_type": "stream",
     "text": [
      "{'aperture': 1.0, 'fov': 0.37892243899248773, 'sigma_energy': 0.00036399505726629385, 'theta_sample': 20.0, 'exposure': 300.0}\n",
      ". . . . . . . . . \n"
     ]
    }
   ],
   "source": [
    "### Micro-X parameters ###\n",
    "fwhm_MX = 3.0/(3.5*10**3) # fractional energy resolution at 3.5 keV\n",
    "theta_MX = 20.0\n",
    "micro_x_params = {\n",
    "    'aperture': 1.0, # effective aperture in cm^2\n",
    "    'exposure': 300.0, # exposure time in sec\n",
    "    'fov': 2*np.pi*(1.-np.cos(theta_MX*np.pi/180.)), # solid angle of the FOV in str\n",
    "    'sigma_energy': fwhm_MX/(2.*(2.*np.log(2.))**0.5), # Guassian sigma of the energy response\n",
    "    'theta_sample': theta_MX, # angular radius of the sampling cone in degrees\n",
    "}\n",
    "print micro_x_params\n",
    "micro_x_result = vsh.spectroscopy(pos, vel, partmass, **micro_x_params)\n",
    "# print micro_x_result\n",
    "\n"
   ]
  },
  {
   "cell_type": "code",
   "execution_count": 5,
   "metadata": {
    "collapsed": true
   },
   "outputs": [],
   "source": [
    "# Ranjan's analysis\n",
    "# \\ell = b = 25 degree. 438.62 Exp[-(1/2) (En1 - 3.50083)^2/(0.00134421)^2].  \n",
    "# The central value is 3.50083, and the width is 66.2925/(3 10^5).\n",
    "# \\ell = 65 degree and b = 25 degree.  230.79 Exp[-(1/2) (En1 - 3.502)^2/(0.0013551)^2].  \n",
    "# The central value is 3.502, and the width is 100.621/(3 10^5).\n",
    "ranjan_result = {'l': np.array([-65., -25., 25., 65.]), 'centroid': np.array([0.002, 0.00083, -0.00083, -0.002])/3.5,\n",
    "                'sigma_centroid': np.array([100.621, 66.2925, 66.2925, 100.621])/3.0e5}"
   ]
  },
  {
   "cell_type": "code",
   "execution_count": 13,
   "metadata": {
    "collapsed": false
   },
   "outputs": [
    {
     "name": "stdout",
     "output_type": "stream",
     "text": [
      ". . . . . . . . . \n"
     ]
    }
   ],
   "source": [
    "# Devon's analysis on Micro-X\n",
    "# NOTE: Assumes 3.5 keV for now!!!\n",
    "reload(vsh);\n",
    "\n",
    "devon_result = vsh.spectroscopy_analytic(**micro_x_params)\n",
    "# print micro_x_result\n",
    "\n",
    "# for i in xrange(9):\n",
    "#     print 'l =', devon_result['l'][i], 'counts =', devon_result['counts'][i]\n"
   ]
  },
  {
   "cell_type": "code",
   "execution_count": 16,
   "metadata": {
    "collapsed": false
   },
   "outputs": [
    {
     "data": {
      "image/png": "[encoded data removed]",
      "text/plain": [
       "<matplotlib.figure.Figure at 0x7fdb57e0cb10>"
      ]
     },
     "metadata": {},
     "output_type": "display_data"
    }
   ],
   "source": [
    "# Plot it up!\n",
    "fig, ax = plt.subplots(1, 1, figsize=(10, 10))\n",
    "\n",
    "# \n",
    "ax.errorbar(micro_x_result['l']-1.5, micro_x_result['centroid']*10**3,\\\n",
    "            yerr=micro_x_result['sigma_centroid']*10**3, fmt='o', c='blue', label='Micro-X')\n",
    "\n",
    "ax.errorbar(ranjan_result['l']+1.5, ranjan_result['centroid']*10**3,\\\n",
    "            yerr=ranjan_result['sigma_centroid']*10**3, fmt='o', c='red', label='Analytic')\n",
    "\n",
    "# ax.errorbar(devon_result['l']-4.5, devon_result['centroid']*10**3,\\\n",
    "#             yerr=devon_result['sigma_centroid']*10**3, fmt='o', c='black', label='Devon')\n",
    "\n",
    "# frills\n",
    "# ax.set_title(r'Decay line spectral shift')\n",
    "ax.set_ylabel(r'$\\frac{\\delta E}{E} \\times 10^3$')\n",
    "ax.set_xlabel(r'Galactic longitude ($^{\\circ}$)')\n",
    "ax.set_xlim(-100., 100.)\n",
    "ax.invert_xaxis()\n",
    "ax.set_ylim(-1.2, 1.2)\n",
    "ax.grid(True)\n",
    "\n",
    "ax.legend(loc='upper left')\n",
    "\n",
    "fig.savefig('../img/de_vs_l.png', bbox_inches='tight')"
   ]
  },
  {
   "cell_type": "code",
   "execution_count": null,
   "metadata": {
    "collapsed": true
   },
   "outputs": [],
   "source": [
    "\n",
    "### Astro-H parameters ###\n",
    "# fov_AH = 9.0 # field of view in arcmin^2\n",
    "# fov_AH *= 8.461594994075239e-8 # convert to str\n",
    "# astro_h_params = {'aperture': 200.0, 'exposure': 2.0e6, 'fov': fov_AH, \\\n",
    "#     'sigma_energy': 1.7/(3.5*10**3), 'theta_sample': 2.0}\n",
    "# print astro_h_params\n",
    "# astro_h_result = vsh.spectroscopy(pos, vel, partmass, **astro_h_params)\n",
    "# print astro_h_result"
   ]
  },
  {
   "cell_type": "code",
   "execution_count": null,
   "metadata": {
    "collapsed": false
   },
   "outputs": [],
   "source": [
    "# Plot the halo looking down the LOS from the Sun to check symmetry\n",
    "fsz = 6\n",
    "fig, axes = plt.subplots(1, 3, figsize=(3*fsz, fsz))\n",
    "\n",
    "sfilt = (np.abs(pos[:,0]+vsh.r_sun) < 2*vsh.r_sun)*(np.abs(pos[:,1]) < 2*vsh.r_sun)*(np.abs(pos[:,2]) < 2*vsh.r_sun)\n",
    "fpos = pos[sfilt]+vsh.pos_sun\n",
    "\n",
    "# looking down the x-axis towards the GC\n",
    "partargs = {'s': 0.4, 'c': 'black', 'lw': 0}\n",
    "sunargs = {'s': 100.0, 'c': 'yellow', 'lw': 0}\n",
    "axes[0].scatter(fpos[:,1], fpos[:,2], **partargs)\n",
    "axes[0].scatter(vsh.pos_sun[1], vsh.pos_sun[2], **sunargs)\n",
    "axes[1].scatter(fpos[:,0], fpos[:,1], **partargs)\n",
    "axes[1].scatter(vsh.pos_sun[0], vsh.pos_sun[1], **sunargs)\n",
    "axes[2].scatter(fpos[:,0], fpos[:,2], **partargs)\n",
    "axes[2].scatter(vsh.pos_sun[0], vsh.pos_sun[2], **sunargs)\n",
    "for ax in axes:\n",
    "    ax.set_xlim([-2*vsh.r_sun, 2*vsh.r_sun])\n",
    "    ax.set_ylim([-2*vsh.r_sun, 2*vsh.r_sun])\n",
    "    ax.grid(True)\n",
    "    \n",
    "fig.suptitle(r'MW halo viewed from the Sun')\n",
    "# ax.set_xlabel(r'$x$ [kpc]')\n",
    "# ax.set_ylabel(r'$y$ [kpc]')"
   ]
  },
  {
   "cell_type": "code",
   "execution_count": null,
   "metadata": {
    "collapsed": false
   },
   "outputs": [],
   "source": [
    "'''\n",
    "An example plot to show how sampling is done\n",
    "\n",
    "fig, ax = plt.subplots(1, 1, figsize=(10, 10))\n",
    "zoom = 800 # kpc\n",
    "ax.set_xlim([-0.5*zoom, 0.5*zoom])\n",
    "ax.set_ylim([-0.5*zoom, 0.5*zoom])\n",
    "ax.set_title(r'MW halo: Sampling the FOV')\n",
    "ax.set_xlabel(r'$x$ [kpc]')\n",
    "ax.set_ylabel(r'$y$ [kpc]')\n",
    "cpos, _, _ = vsh.sample_los(pos, vel, beam_radius=20.0)\n",
    "sfilt = np.abs(pos[:,2]) < 1.0 # filter all particles into a thin 1 kpc slab to make plotting easier\n",
    "ax.scatter(pos[sfilt][:,0], pos[sfilt][:,1], s=0.5, c='black', lw=0)\n",
    "ax.scatter(cpos[:,0], cpos[:,1], s=2.0, c='red', lw=0)\n",
    "'''"
   ]
  },
  {
   "cell_type": "code",
   "execution_count": null,
   "metadata": {
    "collapsed": false
   },
   "outputs": [],
   "source": [
    "'''\n",
    "Code to test uniformity of 3d rotation sampling.\n",
    "Looks good!\n",
    "\n",
    "from mpl_toolkits.mplot3d import Axes3D\n",
    "fig = matplotlib.pyplot.figure(figsize=(10,10))\n",
    "ax  = fig.add_subplot(111, projection = '3d')\n",
    "\n",
    "whisk = np.array([[-0.02, 0.0, 1.0], [0.02, 0.0, 1.0]])\n",
    "\n",
    "for i in xrange(5000):\n",
    "    rot = vsh.generateRotationMatrix()\n",
    "    w = np.dot(whisk, rot)\n",
    "    ax.plot(w[:,0], w[:,1], w[:,2], color = 'b');\n",
    "\n",
    "ax.set_xlim([-1.1, 1.1]);\n",
    "ax.set_ylim([-1.1, 1.1]);\n",
    "ax.set_zlim([-1.1, 1.1]);\n",
    "'''"
   ]
  }
 ],
 "metadata": {
  "kernelspec": {
   "display_name": "Python 2",
   "language": "python",
   "name": "python2"
  },
  "language_info": {
   "codemirror_mode": {
    "name": "ipython",
    "version": 2
   },
   "file_extension": ".py",
   "mimetype": "text/x-python",
   "name": "python",
   "nbconvert_exporter": "python",
   "pygments_lexer": "ipython2",
   "version": "2.7.11"
  }
 },
 "nbformat": 4,
 "nbformat_minor": 0
}
