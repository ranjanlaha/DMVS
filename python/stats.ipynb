{
 "cells": [
  {
   "cell_type": "code",
   "execution_count": 9,
   "metadata": {
    "collapsed": false
   },
   "outputs": [],
   "source": [
    "import matplotlib\n",
    "%matplotlib inline\n",
    "matplotlib.rcParams['font.size'] = 28.0\n",
    "import matplotlib.pyplot as plt\n",
    "import numpy as np\n",
    "from scipy.stats import chi2\n",
    "import loadMWSnap as mws\n",
    "import velocitySpectroscopyHelpers as vsh\n",
    "reload(mws);\n",
    "reload(vsh);"
   ]
  },
  {
   "cell_type": "code",
   "execution_count": 18,
   "metadata": {
    "collapsed": false
   },
   "outputs": [
    {
     "name": "stdout",
     "output_type": "stream",
     "text": [
      "Halo 1 of 18:\n",
      "Chi^2 = 0.0671895940335 p =  2.64810687545e-11\n",
      "Halo 2 of 18:\n",
      "Chi^2 = 0.0238115652685 p =  8.97583092642e-14\n",
      "Halo 3 of 18:\n",
      "Chi^2 = 0.00457899691754 p =  1.04354498245e-17\n",
      "Halo 4 of 18:\n",
      "Chi^2 = 0.112783732681 p =  4.48497742624e-10\n",
      "Halo 5 of 18:\n",
      "Chi^2 = 0.0230886283982 p =  7.57815534269e-14\n",
      "Halo 6 of 18:\n",
      "Chi^2 = 0.0212568542941 p =  4.81343083935e-14\n",
      "Halo 7 of 18:\n",
      "Chi^2 = 0.0212955904255 p =  4.86179244486e-14\n",
      "Halo 8 of 18:\n",
      "Chi^2 = 0.00676521819531 p =  8.92118437998e-17\n",
      "Halo 9 of 18:\n",
      "Chi^2 = 0.0259727901866 p =  1.44609326626e-13\n",
      "Halo 10 of 18:\n",
      "Chi^2 = 0.0168372104016 p =  1.33815965159e-14\n",
      "Halo 11 of 18:\n",
      "Chi^2 = 0.0781432832575 p =  6.04877442716e-11\n",
      "Halo 12 of 18:\n",
      "Chi^2 = 0.0103630692345 p =  9.29817588291e-16\n",
      "Halo 13 of 18:\n",
      "Chi^2 = 0.0101718849547 p =  8.39372238707e-16\n",
      "Halo 14 of 18:\n",
      "Chi^2 = 0.0130464414553 p =  3.29552764466e-15\n",
      "Halo 15 of 18:\n",
      "Chi^2 = 0.0336555193567 p =  5.99435423838e-13\n",
      "Halo 16 of 18:\n",
      "Chi^2 = 0.0160392179889 p =  1.02488776692e-14\n",
      "Halo 17 of 18:\n",
      "Chi^2 = 0.00637275665086 p =  6.42310494489e-17\n",
      "Halo 18 of 18:\n",
      "Chi^2 = 0.00589769545343 p =  4.19551079119e-17\n"
     ]
    }
   ],
   "source": [
    "# load and do chi2\n",
    "haloes = vsh.haloesWithVSData\n",
    "for i, h in enumerate(haloes):\n",
    "    print 'Halo %d of %d:' % (i+1, len(haloes))\n",
    "    nb, an, fill = vsh.loadSpectroscopyData(halo=h)\n",
    "    \n",
    "    # the chi-square value for this fit\n",
    "    # No weights -- already taken care of in Ns**-0.5 in the uncertainties!\n",
    "#     x2 = np.average((nb['cen']-an['cen'])**2/(nb['sig']**2+an['sig']**2), weights=None)\n",
    "    x2 = np.sum((nb['cen']-an['cen'])**2/(nb['sig']**2+an['sig']**2))\n",
    "    dof = len(nb['l'])\n",
    "    \n",
    "#     # TODO: treating DOF??\n",
    "\n",
    "    print 'Chi^2 =', x2, 'p = ', chi2.cdf(x2, dof)"
   ]
  },
  {
   "cell_type": "code",
   "execution_count": null,
   "metadata": {
    "collapsed": false
   },
   "outputs": [],
   "source": [
    "# Plot it up!\n",
    "fig, ax = plt.subplots(1, 1, figsize=(10, 10))\n",
    "halo = 374\n",
    "nb, an, fill = vsh.loadSpectroscopyData(halo=halo)\n",
    "\n",
    "# sample the N-body distribution and get a chi^2 for this sampling\n",
    "x2 = 0.0\n",
    "dof = 0\n",
    "meanphot = nb['Ns'] + nb['Nb']\n",
    "\n",
    "# np.random.seed(10291989)\n",
    "# meanphot *= 10\n",
    "\n",
    "# recover the actual line widths for the analytic signal\n",
    "# include background for the observed signal\n",
    "# an['sig'] *= vsh.cramer_rao(sig=an['Ns'], bg=an['Nb'])**-1*an['Ns']**0.5\n",
    "# nb['sig'] *= nb['Ns']**0.5\n",
    "\n",
    "nphot = np.random.poisson(lam=meanphot)\n",
    "for i, l in enumerate(nb['l']):\n",
    "    en = np.random.normal(loc=nb['cen'][i], scale=nb['sig'][i], size=nphot[i])\n",
    "    ax.scatter(l*np.ones_like(en), en*10**3, lw=0)\n",
    "    x2 += np.sum(((en-an['cen'][i])/an['sig'][i])**2)\n",
    "    dof += nphot[i]\n",
    "print 'chi2 =', x2, 'dof =', dof\n",
    "print 'prob =', chi2.cdf(x2, dof)\n",
    "    \n",
    "    \n",
    "    \n",
    "ax.plot([-120, 120], [0,0], 'k-', lw=0.4)\n",
    "\n",
    "# inds=[0,2,4,6,8,10]\n",
    "# ax.errorbar(nb['l'][inds], nb['cen'][inds]*10**3,\\\n",
    "#             yerr=nb['sig'][inds]*10**3, fmt='o', c='blue', label='N-body')\n",
    "\n",
    "\n",
    "# fill['sig'] *= vsh.cramer_rao(sig=fill['Ns'], bg=fill['Nb'])**-1*fill['Ns']**0.5\n",
    "\n",
    "flon = fill['l']\n",
    "cent = fill['cen']*10**3\n",
    "plus = cent + fill['sig']*10**3\n",
    "minus = cent - fill['sig']*10**3\n",
    "ax.fill_between(flon, minus, plus, facecolor='black', alpha=0.08, label='Analytic')\n",
    "ax.plot(flon, cent, 'k-', alpha=0.1)\n",
    "# ax.plot([-120, 120], [0,0], 'k-', lw=0.4)\n",
    "\n",
    "\n",
    "# frills\n",
    "# ax.set_title(r'Decay line spectral shift')\n",
    "ax.set_ylabel(r'$\\frac{\\delta E}{E} \\times 10^3$')\n",
    "ax.set_xlabel(r'$\\ell$ ($^{\\circ}$)')\n",
    "ax.set_xlim(-120., 120.)\n",
    "ax.invert_xaxis()\n",
    "ax.set_ylim(-1.2, 1.2)\n",
    "# ax.set_ylim(-1.5, 2)\n",
    "ax.grid(True)\n",
    "\n",
    "# ax.legend(loc='upper left')\n",
    "\n",
    "# fig.savefig('../img/de_vs_l_800.png', bbox_inches='tight')\n",
    "# fig.savefig('../img/de_vs_l_filled.png', bbox_inches='tight')"
   ]
  },
  {
   "cell_type": "code",
   "execution_count": null,
   "metadata": {
    "collapsed": true
   },
   "outputs": [],
   "source": []
  }
 ],
 "metadata": {
  "kernelspec": {
   "display_name": "Python 2",
   "language": "python",
   "name": "python2"
  },
  "language_info": {
   "codemirror_mode": {
    "name": "ipython",
    "version": 2
   },
   "file_extension": ".py",
   "mimetype": "text/x-python",
   "name": "python",
   "nbconvert_exporter": "python",
   "pygments_lexer": "ipython2",
   "version": "2.7.11"
  }
 },
 "nbformat": 4,
 "nbformat_minor": 0
}
